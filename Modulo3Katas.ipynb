{
 "cells": [
  {
   "cell_type": "markdown",
   "metadata": {},
   "source": [
    "# Ejercicio 1: if, else y elif"
   ]
  },
  {
   "cell_type": "code",
   "execution_count": 4,
   "metadata": {},
   "outputs": [
    {
     "name": "stdout",
     "output_type": "stream",
     "text": [
      "El asteroide se acerca muy rápido!! Viene a  49  km/h\n"
     ]
    }
   ],
   "source": [
    "velocidad = 49\n",
    "if velocidad >= 25:\n",
    "    print(\"El asteroide se acerca muy rápido!! Viene a \", velocidad,\" km/h\")\n",
    "else:\n",
    "    print(\"No hay peligro :)\")"
   ]
  },
  {
   "cell_type": "code",
   "execution_count": 6,
   "metadata": {},
   "outputs": [
    {
     "name": "stdout",
     "output_type": "stream",
     "text": [
      "Busca una luz en el cielo!!\n"
     ]
    }
   ],
   "source": [
    "velocidad = 19\n",
    "if velocidad > 20:\n",
    "    print(\"Busca una luz en el cielo!!\")\n",
    "elif velocidad == 20:\n",
    "    print(\"Busca una luz en el cielo!!\")\n",
    "else:\n",
    "    print(\"No se ve nada :(\")"
   ]
  },
  {
   "cell_type": "markdown",
   "metadata": {},
   "source": [
    "# Ejercicio 2: and y or"
   ]
  },
  {
   "cell_type": "code",
   "execution_count": 3,
   "metadata": {},
   "outputs": [
    {
     "name": "stdout",
     "output_type": "stream",
     "text": [
      "Busca una luz en el cielo\n"
     ]
    }
   ],
   "source": [
    "velocidad = 25\n",
    "tamaño = 40\n",
    "if velocidad >25 and tamaño >=25:\n",
    "    print(\"Advertencia de asteroide\")\n",
    "elif velocidad >= 20:\n",
    "    print(\"Busca una luz en el cielo\")\n",
    "elif tamaño < 25:\n",
    "    print(\"Todo bien :)\")\n",
    "else:\n",
    "    print(\"Todo bien :)\")\n"
   ]
  }
 ],
 "metadata": {
  "interpreter": {
   "hash": "5d240ba0dc525c389faa33f5dcce5b4f32b6d6aa6d70d6d2dd929bd2b09ab69f"
  },
  "kernelspec": {
   "display_name": "Python 3.10.0 64-bit",
   "language": "python",
   "name": "python3"
  },
  "language_info": {
   "codemirror_mode": {
    "name": "ipython",
    "version": 3
   },
   "file_extension": ".py",
   "mimetype": "text/x-python",
   "name": "python",
   "nbconvert_exporter": "python",
   "pygments_lexer": "ipython3",
   "version": "3.10.2"
  },
  "orig_nbformat": 4
 },
 "nbformat": 4,
 "nbformat_minor": 2
}
