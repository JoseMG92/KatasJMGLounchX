{
 "cells": [
  {
   "cell_type": "markdown",
   "metadata": {},
   "source": [
    "# Ejercicio 1: Trabajar con argumentos en funciones"
   ]
  },
  {
   "cell_type": "code",
   "execution_count": 4,
   "metadata": {},
   "outputs": [],
   "source": [
    "# Función para leer 3 tanques de combustible y muestre el promedio\n",
    "def reportar(tanque1, tanque2, tanque3):\n",
    "    promedio = (tanque1+tanque2+tanque3)/3\n",
    "    return f\"\"\"Reporte:\n",
    "    Promedio: {promedio}%\n",
    "    Tanque No. 1: {tanque1}%\n",
    "    Tanque No. 2: {tanque2}%\n",
    "    Tanque No. 3: {tanque3}%    \n",
    "    \"\"\""
   ]
  },
  {
   "cell_type": "code",
   "execution_count": 5,
   "metadata": {},
   "outputs": [
    {
     "name": "stdout",
     "output_type": "stream",
     "text": [
      "Reporte:\n",
      "    Promedio: 78.33333333333333%\n",
      "    Tanque No. 1: 80%\n",
      "    Tanque No. 2: 70%\n",
      "    Tanque No. 3: 85%    \n",
      "    \n"
     ]
    }
   ],
   "source": [
    "print(reportar(80,70,85))"
   ]
  },
  {
   "cell_type": "code",
   "execution_count": 10,
   "metadata": {},
   "outputs": [
    {
     "data": {
      "text/plain": [
       "82.0"
      ]
     },
     "execution_count": 10,
     "metadata": {},
     "output_type": "execute_result"
    }
   ],
   "source": [
    "def promediar(tanque1,tanque2,tanque3):\n",
    "    promedio = (tanque1+tanque2+tanque3)/3\n",
    "    return promedio\n",
    "\n",
    "promediar(80,85,81)"
   ]
  },
  {
   "cell_type": "code",
   "execution_count": 11,
   "metadata": {},
   "outputs": [
    {
     "name": "stdout",
     "output_type": "stream",
     "text": [
      "Reporte:\n",
      "    Promedio: 78.0%\n",
      "    Tanque No. 1: 88%\n",
      "    Tanque No. 2: 76%\n",
      "    Tanque No. 3: 70%    \n",
      "    \n"
     ]
    }
   ],
   "source": [
    "# Función para leer 3 tanques de combustible y muestre el promedio\n",
    "def reportar(tanque1, tanque2, tanque3):\n",
    "    \n",
    "    return f\"\"\"Reporte:\n",
    "    Promedio: {promediar(tanque1,tanque2,tanque3)}%\n",
    "    Tanque No. 1: {tanque1}%\n",
    "    Tanque No. 2: {tanque2}%\n",
    "    Tanque No. 3: {tanque3}%    \n",
    "    \"\"\"\n",
    "\n",
    "print(reportar(88, 76, 70))"
   ]
  },
  {
   "cell_type": "markdown",
   "metadata": {},
   "source": [
    "# Ejercicio 2: Trabajo con argumentos de palabra clave"
   ]
  },
  {
   "cell_type": "code",
   "execution_count": 12,
   "metadata": {},
   "outputs": [
    {
     "name": "stdout",
     "output_type": "stream",
     "text": [
      "\n",
      "    El destino es Moon\n",
      "    Tiempo total de vuelo: 65 minutos\n",
      "    Combustible restante: 500000 litros\n",
      "    \n"
     ]
    }
   ],
   "source": [
    "def reporteExtenso(prelanzamiento, vuelo, destino, tanqueExterno, tanqueInterno):\n",
    "    return f\"\"\"\n",
    "    El destino es {destino}\n",
    "    Tiempo total de vuelo: {prelanzamiento + vuelo} minutos\n",
    "    Combustible restante: {tanqueExterno + tanqueInterno} litros\n",
    "    \"\"\"\n",
    "\n",
    "print(reporteExtenso(14, 51, \"Moon\", 200000, 300000))"
   ]
  },
  {
   "cell_type": "code",
   "execution_count": 14,
   "metadata": {},
   "outputs": [
    {
     "name": "stdout",
     "output_type": "stream",
     "text": [
      "\n",
      "    El destino es Marte\n",
      "    Tiempo total de vuelo: 76 minutos\n",
      "    Combustible restante: 500000\n",
      "    \n"
     ]
    }
   ],
   "source": [
    "def reporteExtenso(destino, *minutos, **combustibles):\n",
    "    return f\"\"\"\n",
    "    El destino es {destino}\n",
    "    Tiempo total de vuelo: {sum(minutos)} minutos\n",
    "    Combustible restante: {sum(combustibles.values())}\n",
    "    \"\"\"\n",
    "\n",
    "print(reporteExtenso(\"Marte\", 10, 15, 51, interno=300000, externo=200000))"
   ]
  },
  {
   "cell_type": "code",
   "execution_count": 1,
   "metadata": {},
   "outputs": [
    {
     "name": "stdout",
     "output_type": "stream",
     "text": [
      "\n",
      "    El destino es Marte\n",
      "    Tiempo total de vuelo: 76 minutos\n",
      "    Combustible restante: 500000\n",
      "    interno: 300000 litros restantes\n"
     ]
    }
   ],
   "source": [
    "def reporteExtenso(destino, *minutos, **combustibles):\n",
    "    reporte=f\"\"\"\n",
    "    El destino es {destino}\n",
    "    Tiempo total de vuelo: {sum(minutos)} minutos\n",
    "    Combustible restante: {sum(combustibles.values())}\n",
    "    \"\"\"\n",
    "    for tanque, litros in combustibles.items():\n",
    "        reporte += f\"{tanque}: {litros} litros restantes\"\n",
    "        return reporte\n",
    "\n",
    "print(reporteExtenso(\"Marte\", 10, 15, 51, interno=300000, externo=200000))\n"
   ]
  }
 ],
 "metadata": {
  "interpreter": {
   "hash": "5d240ba0dc525c389faa33f5dcce5b4f32b6d6aa6d70d6d2dd929bd2b09ab69f"
  },
  "kernelspec": {
   "display_name": "Python 3.10.0 64-bit",
   "language": "python",
   "name": "python3"
  },
  "language_info": {
   "codemirror_mode": {
    "name": "ipython",
    "version": 3
   },
   "file_extension": ".py",
   "mimetype": "text/x-python",
   "name": "python",
   "nbconvert_exporter": "python",
   "pygments_lexer": "ipython3",
   "version": "3.10.0"
  },
  "orig_nbformat": 4
 },
 "nbformat": 4,
 "nbformat_minor": 2
}
